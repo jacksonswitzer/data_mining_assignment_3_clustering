{
 "cells": [
  {
   "cell_type": "code",
   "execution_count": 2,
   "id": "94e8348c-cba9-4961-96ae-9317a6ad2899",
   "metadata": {},
   "outputs": [],
   "source": [
    "import matplotlib.pyplot as plt"
   ]
  },
  {
   "cell_type": "code",
   "execution_count": null,
   "id": "324bce82-809c-4cde-bad6-22b8291cb010",
   "metadata": {},
   "outputs": [],
   "source": []
  }
 ],
 "metadata": {
  "kernelspec": {
   "display_name": "data_mining_assignment_3_clustering_venv",
   "language": "python",
   "name": "data_mining_assignment_3_clustering_venv"
  },
  "language_info": {
   "codemirror_mode": {
    "name": "ipython",
    "version": 3
   },
   "file_extension": ".py",
   "mimetype": "text/x-python",
   "name": "python",
   "nbconvert_exporter": "python",
   "pygments_lexer": "ipython3",
   "version": "3.12.3"
  }
 },
 "nbformat": 4,
 "nbformat_minor": 5
}
